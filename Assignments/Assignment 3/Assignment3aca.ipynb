{
  "nbformat": 4,
  "nbformat_minor": 0,
  "metadata": {
    "colab": {
      "name": "Assignment3aca.ipynb",
      "provenance": []
    },
    "kernelspec": {
      "name": "python3",
      "display_name": "Python 3"
    },
    "language_info": {
      "name": "python"
    }
  },
  "cells": [
    {
      "cell_type": "code",
      "execution_count": 99,
      "metadata": {
        "id": "8_VGKtR86wjF"
      },
      "outputs": [],
      "source": [
        "import numpy as np\n",
        "import pandas as pd"
      ]
    },
    {
      "cell_type": "code",
      "source": [
        "traindata=pd.read_csv(\"/train (1).csv\")\n",
        "testdata=pd.read_csv(\"/test (1).csv\")\n",
        "target=pd.read_csv(\"/gender_submission.csv\")"
      ],
      "metadata": {
        "id": "_87bvA698kbd"
      },
      "execution_count": 100,
      "outputs": []
    },
    {
      "cell_type": "code",
      "source": [
        "target=target[\"Survived\"]\n",
        "t=np.array(target)\n",
        "t=t.T\n",
        "t.shape"
      ],
      "metadata": {
        "colab": {
          "base_uri": "https://localhost:8080/"
        },
        "id": "NZDXIz3REHTK",
        "outputId": "7800b353-60f9-405d-f6fe-9c54d783ceaa"
      },
      "execution_count": 101,
      "outputs": [
        {
          "output_type": "execute_result",
          "data": {
            "text/plain": [
              "(418,)"
            ]
          },
          "metadata": {},
          "execution_count": 101
        }
      ]
    },
    {
      "cell_type": "code",
      "source": [
        "A=[1,20,0,0,7.5]\n",
        "S=[0,19,1,1,512]\n",
        "ar=np.array(A)\n",
        "sh=np.array(S)\n",
        "ar=ar.reshape(5,1)\n",
        "sh=sh.reshape(5,1)\n",
        "ar.shape"
      ],
      "metadata": {
        "colab": {
          "base_uri": "https://localhost:8080/"
        },
        "id": "qBg3XhgKGPte",
        "outputId": "7bec12da-c65a-47dc-ebfc-7cfddb0b99be"
      },
      "execution_count": 102,
      "outputs": [
        {
          "output_type": "execute_result",
          "data": {
            "text/plain": [
              "(5, 1)"
            ]
          },
          "metadata": {},
          "execution_count": 102
        }
      ]
    },
    {
      "cell_type": "code",
      "source": [
        "wa= np.full((ar.shape[0],1),0.01)\n",
        "ws=np.full((sh.shape[0],1),0.01)\n",
        "wa"
      ],
      "metadata": {
        "colab": {
          "base_uri": "https://localhost:8080/"
        },
        "id": "nLcuMFwNHgOi",
        "outputId": "2a86475e-7897-4d43-bae0-0c100d6d1973"
      },
      "execution_count": 103,
      "outputs": [
        {
          "output_type": "execute_result",
          "data": {
            "text/plain": [
              "array([[0.01],\n",
              "       [0.01],\n",
              "       [0.01],\n",
              "       [0.01],\n",
              "       [0.01]])"
            ]
          },
          "metadata": {},
          "execution_count": 103
        }
      ]
    },
    {
      "cell_type": "code",
      "source": [
        "traindata\n",
        "traindata['Age'].fillna(traindata['Age'].mean(), inplace=True)"
      ],
      "metadata": {
        "id": "23zcF_PR85AK"
      },
      "execution_count": 104,
      "outputs": []
    },
    {
      "cell_type": "code",
      "source": [
        "ytrain=traindata[\"Survived\"]\n",
        "xtrain=traindata.drop([\"Pclass\",\"Cabin\",\"Embarked\",\"Name\",\"Ticket\",\"PassengerId\"],axis=1)\n",
        "xtest=testdata.drop([\"Pclass\",\"Cabin\",\"Embarked\",\"Name\",\"Ticket\",\"PassengerId\"],axis=1)\n",
        "xtest"
      ],
      "metadata": {
        "colab": {
          "base_uri": "https://localhost:8080/",
          "height": 424
        },
        "id": "c_OUP5ipBZ4Y",
        "outputId": "29e8d1bb-1ba4-4372-96d2-52933f4202ea"
      },
      "execution_count": 105,
      "outputs": [
        {
          "output_type": "execute_result",
          "data": {
            "text/plain": [
              "        Sex   Age  SibSp  Parch      Fare\n",
              "0      male  34.5      0      0    7.8292\n",
              "1    female  47.0      1      0    7.0000\n",
              "2      male  62.0      0      0    9.6875\n",
              "3      male  27.0      0      0    8.6625\n",
              "4    female  22.0      1      1   12.2875\n",
              "..      ...   ...    ...    ...       ...\n",
              "413    male   NaN      0      0    8.0500\n",
              "414  female  39.0      0      0  108.9000\n",
              "415    male  38.5      0      0    7.2500\n",
              "416    male   NaN      0      0    8.0500\n",
              "417    male   NaN      1      1   22.3583\n",
              "\n",
              "[418 rows x 5 columns]"
            ],
            "text/html": [
              "\n",
              "  <div id=\"df-26a09ab0-bc12-418f-a930-e9368ee3c242\">\n",
              "    <div class=\"colab-df-container\">\n",
              "      <div>\n",
              "<style scoped>\n",
              "    .dataframe tbody tr th:only-of-type {\n",
              "        vertical-align: middle;\n",
              "    }\n",
              "\n",
              "    .dataframe tbody tr th {\n",
              "        vertical-align: top;\n",
              "    }\n",
              "\n",
              "    .dataframe thead th {\n",
              "        text-align: right;\n",
              "    }\n",
              "</style>\n",
              "<table border=\"1\" class=\"dataframe\">\n",
              "  <thead>\n",
              "    <tr style=\"text-align: right;\">\n",
              "      <th></th>\n",
              "      <th>Sex</th>\n",
              "      <th>Age</th>\n",
              "      <th>SibSp</th>\n",
              "      <th>Parch</th>\n",
              "      <th>Fare</th>\n",
              "    </tr>\n",
              "  </thead>\n",
              "  <tbody>\n",
              "    <tr>\n",
              "      <th>0</th>\n",
              "      <td>male</td>\n",
              "      <td>34.5</td>\n",
              "      <td>0</td>\n",
              "      <td>0</td>\n",
              "      <td>7.8292</td>\n",
              "    </tr>\n",
              "    <tr>\n",
              "      <th>1</th>\n",
              "      <td>female</td>\n",
              "      <td>47.0</td>\n",
              "      <td>1</td>\n",
              "      <td>0</td>\n",
              "      <td>7.0000</td>\n",
              "    </tr>\n",
              "    <tr>\n",
              "      <th>2</th>\n",
              "      <td>male</td>\n",
              "      <td>62.0</td>\n",
              "      <td>0</td>\n",
              "      <td>0</td>\n",
              "      <td>9.6875</td>\n",
              "    </tr>\n",
              "    <tr>\n",
              "      <th>3</th>\n",
              "      <td>male</td>\n",
              "      <td>27.0</td>\n",
              "      <td>0</td>\n",
              "      <td>0</td>\n",
              "      <td>8.6625</td>\n",
              "    </tr>\n",
              "    <tr>\n",
              "      <th>4</th>\n",
              "      <td>female</td>\n",
              "      <td>22.0</td>\n",
              "      <td>1</td>\n",
              "      <td>1</td>\n",
              "      <td>12.2875</td>\n",
              "    </tr>\n",
              "    <tr>\n",
              "      <th>...</th>\n",
              "      <td>...</td>\n",
              "      <td>...</td>\n",
              "      <td>...</td>\n",
              "      <td>...</td>\n",
              "      <td>...</td>\n",
              "    </tr>\n",
              "    <tr>\n",
              "      <th>413</th>\n",
              "      <td>male</td>\n",
              "      <td>NaN</td>\n",
              "      <td>0</td>\n",
              "      <td>0</td>\n",
              "      <td>8.0500</td>\n",
              "    </tr>\n",
              "    <tr>\n",
              "      <th>414</th>\n",
              "      <td>female</td>\n",
              "      <td>39.0</td>\n",
              "      <td>0</td>\n",
              "      <td>0</td>\n",
              "      <td>108.9000</td>\n",
              "    </tr>\n",
              "    <tr>\n",
              "      <th>415</th>\n",
              "      <td>male</td>\n",
              "      <td>38.5</td>\n",
              "      <td>0</td>\n",
              "      <td>0</td>\n",
              "      <td>7.2500</td>\n",
              "    </tr>\n",
              "    <tr>\n",
              "      <th>416</th>\n",
              "      <td>male</td>\n",
              "      <td>NaN</td>\n",
              "      <td>0</td>\n",
              "      <td>0</td>\n",
              "      <td>8.0500</td>\n",
              "    </tr>\n",
              "    <tr>\n",
              "      <th>417</th>\n",
              "      <td>male</td>\n",
              "      <td>NaN</td>\n",
              "      <td>1</td>\n",
              "      <td>1</td>\n",
              "      <td>22.3583</td>\n",
              "    </tr>\n",
              "  </tbody>\n",
              "</table>\n",
              "<p>418 rows × 5 columns</p>\n",
              "</div>\n",
              "      <button class=\"colab-df-convert\" onclick=\"convertToInteractive('df-26a09ab0-bc12-418f-a930-e9368ee3c242')\"\n",
              "              title=\"Convert this dataframe to an interactive table.\"\n",
              "              style=\"display:none;\">\n",
              "        \n",
              "  <svg xmlns=\"http://www.w3.org/2000/svg\" height=\"24px\"viewBox=\"0 0 24 24\"\n",
              "       width=\"24px\">\n",
              "    <path d=\"M0 0h24v24H0V0z\" fill=\"none\"/>\n",
              "    <path d=\"M18.56 5.44l.94 2.06.94-2.06 2.06-.94-2.06-.94-.94-2.06-.94 2.06-2.06.94zm-11 1L8.5 8.5l.94-2.06 2.06-.94-2.06-.94L8.5 2.5l-.94 2.06-2.06.94zm10 10l.94 2.06.94-2.06 2.06-.94-2.06-.94-.94-2.06-.94 2.06-2.06.94z\"/><path d=\"M17.41 7.96l-1.37-1.37c-.4-.4-.92-.59-1.43-.59-.52 0-1.04.2-1.43.59L10.3 9.45l-7.72 7.72c-.78.78-.78 2.05 0 2.83L4 21.41c.39.39.9.59 1.41.59.51 0 1.02-.2 1.41-.59l7.78-7.78 2.81-2.81c.8-.78.8-2.07 0-2.86zM5.41 20L4 18.59l7.72-7.72 1.47 1.35L5.41 20z\"/>\n",
              "  </svg>\n",
              "      </button>\n",
              "      \n",
              "  <style>\n",
              "    .colab-df-container {\n",
              "      display:flex;\n",
              "      flex-wrap:wrap;\n",
              "      gap: 12px;\n",
              "    }\n",
              "\n",
              "    .colab-df-convert {\n",
              "      background-color: #E8F0FE;\n",
              "      border: none;\n",
              "      border-radius: 50%;\n",
              "      cursor: pointer;\n",
              "      display: none;\n",
              "      fill: #1967D2;\n",
              "      height: 32px;\n",
              "      padding: 0 0 0 0;\n",
              "      width: 32px;\n",
              "    }\n",
              "\n",
              "    .colab-df-convert:hover {\n",
              "      background-color: #E2EBFA;\n",
              "      box-shadow: 0px 1px 2px rgba(60, 64, 67, 0.3), 0px 1px 3px 1px rgba(60, 64, 67, 0.15);\n",
              "      fill: #174EA6;\n",
              "    }\n",
              "\n",
              "    [theme=dark] .colab-df-convert {\n",
              "      background-color: #3B4455;\n",
              "      fill: #D2E3FC;\n",
              "    }\n",
              "\n",
              "    [theme=dark] .colab-df-convert:hover {\n",
              "      background-color: #434B5C;\n",
              "      box-shadow: 0px 1px 3px 1px rgba(0, 0, 0, 0.15);\n",
              "      filter: drop-shadow(0px 1px 2px rgba(0, 0, 0, 0.3));\n",
              "      fill: #FFFFFF;\n",
              "    }\n",
              "  </style>\n",
              "\n",
              "      <script>\n",
              "        const buttonEl =\n",
              "          document.querySelector('#df-26a09ab0-bc12-418f-a930-e9368ee3c242 button.colab-df-convert');\n",
              "        buttonEl.style.display =\n",
              "          google.colab.kernel.accessAllowed ? 'block' : 'none';\n",
              "\n",
              "        async function convertToInteractive(key) {\n",
              "          const element = document.querySelector('#df-26a09ab0-bc12-418f-a930-e9368ee3c242');\n",
              "          const dataTable =\n",
              "            await google.colab.kernel.invokeFunction('convertToInteractive',\n",
              "                                                     [key], {});\n",
              "          if (!dataTable) return;\n",
              "\n",
              "          const docLinkHtml = 'Like what you see? Visit the ' +\n",
              "            '<a target=\"_blank\" href=https://colab.research.google.com/notebooks/data_table.ipynb>data table notebook</a>'\n",
              "            + ' to learn more about interactive tables.';\n",
              "          element.innerHTML = '';\n",
              "          dataTable['output_type'] = 'display_data';\n",
              "          await google.colab.output.renderOutput(dataTable, element);\n",
              "          const docLink = document.createElement('div');\n",
              "          docLink.innerHTML = docLinkHtml;\n",
              "          element.appendChild(docLink);\n",
              "        }\n",
              "      </script>\n",
              "    </div>\n",
              "  </div>\n",
              "  "
            ]
          },
          "metadata": {},
          "execution_count": 105
        }
      ]
    },
    {
      "cell_type": "code",
      "source": [
        "xtrain[\"Sex\"].unique()\n",
        "Gender={\"male\":1, \"female\":0}\n",
        "xtrain=xtrain.replace(Gender)\n",
        "xtest=xtest.replace(Gender)\n",
        "xtrain"
      ],
      "metadata": {
        "colab": {
          "base_uri": "https://localhost:8080/",
          "height": 424
        },
        "id": "bw35DXIsD_NX",
        "outputId": "861e74fc-b6cc-47ed-82c0-55cd6ba1d52b"
      },
      "execution_count": 106,
      "outputs": [
        {
          "output_type": "execute_result",
          "data": {
            "text/plain": [
              "     Survived  Sex        Age  SibSp  Parch     Fare\n",
              "0           0    1  22.000000      1      0   7.2500\n",
              "1           1    0  38.000000      1      0  71.2833\n",
              "2           1    0  26.000000      0      0   7.9250\n",
              "3           1    0  35.000000      1      0  53.1000\n",
              "4           0    1  35.000000      0      0   8.0500\n",
              "..        ...  ...        ...    ...    ...      ...\n",
              "886         0    1  27.000000      0      0  13.0000\n",
              "887         1    0  19.000000      0      0  30.0000\n",
              "888         0    0  29.699118      1      2  23.4500\n",
              "889         1    1  26.000000      0      0  30.0000\n",
              "890         0    1  32.000000      0      0   7.7500\n",
              "\n",
              "[891 rows x 6 columns]"
            ],
            "text/html": [
              "\n",
              "  <div id=\"df-acb866da-5b74-49d1-a233-38b9af974b08\">\n",
              "    <div class=\"colab-df-container\">\n",
              "      <div>\n",
              "<style scoped>\n",
              "    .dataframe tbody tr th:only-of-type {\n",
              "        vertical-align: middle;\n",
              "    }\n",
              "\n",
              "    .dataframe tbody tr th {\n",
              "        vertical-align: top;\n",
              "    }\n",
              "\n",
              "    .dataframe thead th {\n",
              "        text-align: right;\n",
              "    }\n",
              "</style>\n",
              "<table border=\"1\" class=\"dataframe\">\n",
              "  <thead>\n",
              "    <tr style=\"text-align: right;\">\n",
              "      <th></th>\n",
              "      <th>Survived</th>\n",
              "      <th>Sex</th>\n",
              "      <th>Age</th>\n",
              "      <th>SibSp</th>\n",
              "      <th>Parch</th>\n",
              "      <th>Fare</th>\n",
              "    </tr>\n",
              "  </thead>\n",
              "  <tbody>\n",
              "    <tr>\n",
              "      <th>0</th>\n",
              "      <td>0</td>\n",
              "      <td>1</td>\n",
              "      <td>22.000000</td>\n",
              "      <td>1</td>\n",
              "      <td>0</td>\n",
              "      <td>7.2500</td>\n",
              "    </tr>\n",
              "    <tr>\n",
              "      <th>1</th>\n",
              "      <td>1</td>\n",
              "      <td>0</td>\n",
              "      <td>38.000000</td>\n",
              "      <td>1</td>\n",
              "      <td>0</td>\n",
              "      <td>71.2833</td>\n",
              "    </tr>\n",
              "    <tr>\n",
              "      <th>2</th>\n",
              "      <td>1</td>\n",
              "      <td>0</td>\n",
              "      <td>26.000000</td>\n",
              "      <td>0</td>\n",
              "      <td>0</td>\n",
              "      <td>7.9250</td>\n",
              "    </tr>\n",
              "    <tr>\n",
              "      <th>3</th>\n",
              "      <td>1</td>\n",
              "      <td>0</td>\n",
              "      <td>35.000000</td>\n",
              "      <td>1</td>\n",
              "      <td>0</td>\n",
              "      <td>53.1000</td>\n",
              "    </tr>\n",
              "    <tr>\n",
              "      <th>4</th>\n",
              "      <td>0</td>\n",
              "      <td>1</td>\n",
              "      <td>35.000000</td>\n",
              "      <td>0</td>\n",
              "      <td>0</td>\n",
              "      <td>8.0500</td>\n",
              "    </tr>\n",
              "    <tr>\n",
              "      <th>...</th>\n",
              "      <td>...</td>\n",
              "      <td>...</td>\n",
              "      <td>...</td>\n",
              "      <td>...</td>\n",
              "      <td>...</td>\n",
              "      <td>...</td>\n",
              "    </tr>\n",
              "    <tr>\n",
              "      <th>886</th>\n",
              "      <td>0</td>\n",
              "      <td>1</td>\n",
              "      <td>27.000000</td>\n",
              "      <td>0</td>\n",
              "      <td>0</td>\n",
              "      <td>13.0000</td>\n",
              "    </tr>\n",
              "    <tr>\n",
              "      <th>887</th>\n",
              "      <td>1</td>\n",
              "      <td>0</td>\n",
              "      <td>19.000000</td>\n",
              "      <td>0</td>\n",
              "      <td>0</td>\n",
              "      <td>30.0000</td>\n",
              "    </tr>\n",
              "    <tr>\n",
              "      <th>888</th>\n",
              "      <td>0</td>\n",
              "      <td>0</td>\n",
              "      <td>29.699118</td>\n",
              "      <td>1</td>\n",
              "      <td>2</td>\n",
              "      <td>23.4500</td>\n",
              "    </tr>\n",
              "    <tr>\n",
              "      <th>889</th>\n",
              "      <td>1</td>\n",
              "      <td>1</td>\n",
              "      <td>26.000000</td>\n",
              "      <td>0</td>\n",
              "      <td>0</td>\n",
              "      <td>30.0000</td>\n",
              "    </tr>\n",
              "    <tr>\n",
              "      <th>890</th>\n",
              "      <td>0</td>\n",
              "      <td>1</td>\n",
              "      <td>32.000000</td>\n",
              "      <td>0</td>\n",
              "      <td>0</td>\n",
              "      <td>7.7500</td>\n",
              "    </tr>\n",
              "  </tbody>\n",
              "</table>\n",
              "<p>891 rows × 6 columns</p>\n",
              "</div>\n",
              "      <button class=\"colab-df-convert\" onclick=\"convertToInteractive('df-acb866da-5b74-49d1-a233-38b9af974b08')\"\n",
              "              title=\"Convert this dataframe to an interactive table.\"\n",
              "              style=\"display:none;\">\n",
              "        \n",
              "  <svg xmlns=\"http://www.w3.org/2000/svg\" height=\"24px\"viewBox=\"0 0 24 24\"\n",
              "       width=\"24px\">\n",
              "    <path d=\"M0 0h24v24H0V0z\" fill=\"none\"/>\n",
              "    <path d=\"M18.56 5.44l.94 2.06.94-2.06 2.06-.94-2.06-.94-.94-2.06-.94 2.06-2.06.94zm-11 1L8.5 8.5l.94-2.06 2.06-.94-2.06-.94L8.5 2.5l-.94 2.06-2.06.94zm10 10l.94 2.06.94-2.06 2.06-.94-2.06-.94-.94-2.06-.94 2.06-2.06.94z\"/><path d=\"M17.41 7.96l-1.37-1.37c-.4-.4-.92-.59-1.43-.59-.52 0-1.04.2-1.43.59L10.3 9.45l-7.72 7.72c-.78.78-.78 2.05 0 2.83L4 21.41c.39.39.9.59 1.41.59.51 0 1.02-.2 1.41-.59l7.78-7.78 2.81-2.81c.8-.78.8-2.07 0-2.86zM5.41 20L4 18.59l7.72-7.72 1.47 1.35L5.41 20z\"/>\n",
              "  </svg>\n",
              "      </button>\n",
              "      \n",
              "  <style>\n",
              "    .colab-df-container {\n",
              "      display:flex;\n",
              "      flex-wrap:wrap;\n",
              "      gap: 12px;\n",
              "    }\n",
              "\n",
              "    .colab-df-convert {\n",
              "      background-color: #E8F0FE;\n",
              "      border: none;\n",
              "      border-radius: 50%;\n",
              "      cursor: pointer;\n",
              "      display: none;\n",
              "      fill: #1967D2;\n",
              "      height: 32px;\n",
              "      padding: 0 0 0 0;\n",
              "      width: 32px;\n",
              "    }\n",
              "\n",
              "    .colab-df-convert:hover {\n",
              "      background-color: #E2EBFA;\n",
              "      box-shadow: 0px 1px 2px rgba(60, 64, 67, 0.3), 0px 1px 3px 1px rgba(60, 64, 67, 0.15);\n",
              "      fill: #174EA6;\n",
              "    }\n",
              "\n",
              "    [theme=dark] .colab-df-convert {\n",
              "      background-color: #3B4455;\n",
              "      fill: #D2E3FC;\n",
              "    }\n",
              "\n",
              "    [theme=dark] .colab-df-convert:hover {\n",
              "      background-color: #434B5C;\n",
              "      box-shadow: 0px 1px 3px 1px rgba(0, 0, 0, 0.15);\n",
              "      filter: drop-shadow(0px 1px 2px rgba(0, 0, 0, 0.3));\n",
              "      fill: #FFFFFF;\n",
              "    }\n",
              "  </style>\n",
              "\n",
              "      <script>\n",
              "        const buttonEl =\n",
              "          document.querySelector('#df-acb866da-5b74-49d1-a233-38b9af974b08 button.colab-df-convert');\n",
              "        buttonEl.style.display =\n",
              "          google.colab.kernel.accessAllowed ? 'block' : 'none';\n",
              "\n",
              "        async function convertToInteractive(key) {\n",
              "          const element = document.querySelector('#df-acb866da-5b74-49d1-a233-38b9af974b08');\n",
              "          const dataTable =\n",
              "            await google.colab.kernel.invokeFunction('convertToInteractive',\n",
              "                                                     [key], {});\n",
              "          if (!dataTable) return;\n",
              "\n",
              "          const docLinkHtml = 'Like what you see? Visit the ' +\n",
              "            '<a target=\"_blank\" href=https://colab.research.google.com/notebooks/data_table.ipynb>data table notebook</a>'\n",
              "            + ' to learn more about interactive tables.';\n",
              "          element.innerHTML = '';\n",
              "          dataTable['output_type'] = 'display_data';\n",
              "          await google.colab.output.renderOutput(dataTable, element);\n",
              "          const docLink = document.createElement('div');\n",
              "          docLink.innerHTML = docLinkHtml;\n",
              "          element.appendChild(docLink);\n",
              "        }\n",
              "      </script>\n",
              "    </div>\n",
              "  </div>\n",
              "  "
            ]
          },
          "metadata": {},
          "execution_count": 106
        }
      ]
    },
    {
      "cell_type": "code",
      "source": [
        "def sigmoid(z):\n",
        "    s = 1/(1 + np.exp(-z)) \n",
        "    # s[np.isnan(s)] = np.nanmean(s)\n",
        "    return s"
      ],
      "metadata": {
        "id": "YZzJczCOExBs"
      },
      "execution_count": 107,
      "outputs": []
    },
    {
      "cell_type": "code",
      "source": [
        "def loss(h,y):\n",
        "  return(-(y*np.log(h)+(1-y)*np.log(1-h)))"
      ],
      "metadata": {
        "id": "36AoGsn7QlzV"
      },
      "execution_count": 108,
      "outputs": []
    },
    {
      "cell_type": "code",
      "source": [
        "def val(w,x,b):\n",
        "  c=np.dot(w.T,x)+b\n",
        "  c[np.isnan(c)] = np.nanmean(c)\n",
        "  return c"
      ],
      "metadata": {
        "id": "vIx-z-OlRv4B"
      },
      "execution_count": 109,
      "outputs": []
    },
    {
      "cell_type": "code",
      "source": [
        "def gradient(x,h,y):\n",
        "  return (np.dot(x,(h-y).T)/x.shape[1])"
      ],
      "metadata": {
        "id": "_fQpRcxJR-KN"
      },
      "execution_count": 110,
      "outputs": []
    },
    {
      "cell_type": "code",
      "source": [
        "def const(h,y):\n",
        "   n=(np.sum(h-y))/x.shape[1]\n",
        "   return n"
      ],
      "metadata": {
        "id": "ViyDa4L_TJfA"
      },
      "execution_count": 111,
      "outputs": []
    },
    {
      "cell_type": "code",
      "source": [
        "def fit(x,lr,iter,w,b,y):\n",
        "  for i in range(iter):\n",
        "    z=val(w,x,b)\n",
        "   \n",
        "    # z=np.nan_to_num(z, nan=np.nanmean(z))\n",
        "    a=sigmoid(z)\n",
        "  \n",
        "    # a=np.nan_to_num(a, nan=np.nanmean(a))\n",
        "    los=loss(a,y)\n",
        "    \n",
        "    # los=np.nan_to_num(los, nan=np.nanmean(los))\n",
        "    cost=(np.sum(los))/x.shape[1]\n",
        "    dz=np.dot(a,y)\n",
        "    \n",
        "    dw=gradient(x,a,y)\n",
        "   \n",
        "    db=const(a,y)\n",
        "    \n",
        "    w=w-lr*dw\n",
        "    w[np.isnan(w)] = np.nanmean(w)\n",
        "    b=b-lr*db\n",
        "    \n",
        "    if (i%5==0):\n",
        "      print (\"Cost after iteration %i: %f\" %(i, cost))\n",
        " "
      ],
      "metadata": {
        "id": "W70Ft1IaTf0s"
      },
      "execution_count": 112,
      "outputs": []
    },
    {
      "cell_type": "code",
      "source": [
        "xtrain = (xtrain - np.min(xtrain)) / (np.max(xtrain) - np.min(xtrain)).values\n",
        "xtest=(xtest - np.min(xtest)) / (np.max(xtest) - np.min(xtest)).values"
      ],
      "metadata": {
        "id": "C1WI7Gs2znhO"
      },
      "execution_count": 113,
      "outputs": []
    },
    {
      "cell_type": "code",
      "source": [
        "x=np.array(xtrain)\n",
        "x=x.T\n",
        "x.shape\n"
      ],
      "metadata": {
        "colab": {
          "base_uri": "https://localhost:8080/"
        },
        "id": "222hKRJEXjd0",
        "outputId": "aea54886-8bd6-4140-b61b-e7f9a7eff57b"
      },
      "execution_count": 114,
      "outputs": [
        {
          "output_type": "execute_result",
          "data": {
            "text/plain": [
              "(6, 891)"
            ]
          },
          "metadata": {},
          "execution_count": 114
        }
      ]
    },
    {
      "cell_type": "code",
      "source": [
        "xt=np.array(xtest)\n",
        "xt=xt.T\n",
        "xt.shape"
      ],
      "metadata": {
        "colab": {
          "base_uri": "https://localhost:8080/"
        },
        "id": "PI82XJC2DOSv",
        "outputId": "402d4bab-9310-429f-f9bc-8b1ba4e7c5f5"
      },
      "execution_count": 115,
      "outputs": [
        {
          "output_type": "execute_result",
          "data": {
            "text/plain": [
              "(5, 418)"
            ]
          },
          "metadata": {},
          "execution_count": 115
        }
      ]
    },
    {
      "cell_type": "code",
      "source": [
        "y=np.array(ytrain)\n",
        "y=y.T\n",
        "y.shape\n",
        "y"
      ],
      "metadata": {
        "colab": {
          "base_uri": "https://localhost:8080/"
        },
        "id": "hQj0LVECX64w",
        "outputId": "81455ad1-3088-4047-d5c3-ee7cb04ab509"
      },
      "execution_count": 116,
      "outputs": [
        {
          "output_type": "execute_result",
          "data": {
            "text/plain": [
              "array([0, 1, 1, 1, 0, 0, 0, 0, 1, 1, 1, 1, 0, 0, 0, 1, 0, 1, 0, 1, 0, 1,\n",
              "       1, 1, 0, 1, 0, 0, 1, 0, 0, 1, 1, 0, 0, 0, 1, 0, 0, 1, 0, 0, 0, 1,\n",
              "       1, 0, 0, 1, 0, 0, 0, 0, 1, 1, 0, 1, 1, 0, 1, 0, 0, 1, 0, 0, 0, 1,\n",
              "       1, 0, 1, 0, 0, 0, 0, 0, 1, 0, 0, 0, 1, 1, 0, 1, 1, 0, 1, 1, 0, 0,\n",
              "       1, 0, 0, 0, 0, 0, 0, 0, 0, 1, 1, 0, 0, 0, 0, 0, 0, 0, 1, 1, 0, 1,\n",
              "       0, 0, 0, 0, 0, 0, 0, 0, 0, 0, 0, 0, 0, 1, 0, 1, 0, 1, 1, 0, 0, 0,\n",
              "       0, 1, 0, 0, 1, 0, 0, 0, 0, 1, 1, 0, 0, 0, 1, 0, 0, 0, 0, 1, 0, 0,\n",
              "       0, 0, 1, 0, 0, 0, 0, 1, 0, 0, 0, 1, 1, 0, 0, 0, 0, 0, 1, 0, 0, 0,\n",
              "       0, 0, 0, 0, 0, 0, 0, 1, 1, 0, 1, 1, 0, 0, 1, 0, 1, 1, 1, 1, 0, 0,\n",
              "       1, 0, 0, 0, 0, 0, 1, 0, 0, 1, 1, 1, 0, 1, 0, 0, 0, 1, 1, 0, 1, 0,\n",
              "       1, 0, 0, 0, 1, 0, 1, 0, 0, 0, 1, 0, 0, 1, 0, 0, 0, 1, 0, 0, 0, 1,\n",
              "       0, 0, 0, 0, 0, 1, 1, 0, 0, 0, 0, 0, 0, 1, 1, 1, 1, 1, 0, 1, 0, 0,\n",
              "       0, 0, 0, 1, 1, 1, 0, 1, 1, 0, 1, 1, 0, 0, 0, 1, 0, 0, 0, 1, 0, 0,\n",
              "       1, 0, 1, 1, 1, 1, 0, 0, 0, 0, 0, 0, 1, 1, 1, 1, 0, 1, 0, 1, 1, 1,\n",
              "       0, 1, 1, 1, 0, 0, 0, 1, 1, 0, 1, 1, 0, 0, 1, 1, 0, 1, 0, 1, 1, 1,\n",
              "       1, 0, 0, 0, 1, 0, 0, 1, 1, 0, 1, 1, 0, 0, 0, 1, 1, 1, 1, 0, 0, 0,\n",
              "       0, 0, 0, 0, 1, 0, 1, 1, 0, 0, 0, 0, 0, 0, 1, 1, 1, 1, 1, 0, 0, 0,\n",
              "       0, 1, 1, 0, 0, 0, 1, 1, 0, 1, 0, 0, 0, 1, 0, 1, 1, 1, 0, 1, 1, 0,\n",
              "       0, 0, 0, 1, 1, 0, 0, 0, 0, 0, 0, 1, 0, 0, 0, 0, 1, 0, 1, 0, 1, 1,\n",
              "       0, 0, 0, 0, 0, 0, 0, 0, 1, 1, 0, 1, 1, 1, 1, 0, 0, 1, 0, 1, 0, 0,\n",
              "       1, 0, 0, 1, 1, 1, 1, 1, 1, 1, 0, 0, 0, 1, 0, 1, 0, 1, 1, 0, 1, 0,\n",
              "       0, 0, 0, 0, 0, 0, 0, 1, 0, 0, 1, 1, 0, 0, 0, 0, 0, 1, 0, 0, 0, 1,\n",
              "       1, 0, 1, 0, 0, 1, 0, 0, 0, 0, 0, 0, 1, 0, 0, 0, 0, 0, 0, 0, 1, 0,\n",
              "       1, 1, 0, 1, 1, 0, 1, 1, 0, 0, 1, 0, 1, 0, 1, 0, 0, 1, 0, 0, 1, 0,\n",
              "       0, 0, 1, 0, 0, 1, 0, 1, 0, 1, 0, 1, 1, 0, 0, 1, 0, 0, 1, 1, 0, 1,\n",
              "       1, 0, 0, 1, 1, 0, 1, 0, 1, 1, 0, 0, 0, 0, 0, 0, 0, 0, 0, 1, 1, 1,\n",
              "       1, 1, 0, 0, 1, 1, 0, 1, 1, 1, 0, 0, 0, 1, 0, 1, 0, 0, 0, 1, 0, 0,\n",
              "       0, 0, 1, 0, 0, 1, 1, 0, 0, 0, 1, 0, 0, 1, 1, 1, 0, 0, 1, 0, 0, 1,\n",
              "       0, 0, 1, 0, 0, 1, 1, 0, 0, 0, 0, 1, 0, 0, 1, 0, 1, 0, 0, 1, 0, 0,\n",
              "       0, 0, 0, 1, 0, 1, 1, 1, 0, 1, 0, 1, 0, 1, 0, 1, 0, 0, 0, 0, 0, 0,\n",
              "       1, 0, 0, 0, 1, 0, 0, 0, 0, 1, 1, 0, 0, 1, 0, 0, 0, 1, 0, 1, 0, 1,\n",
              "       0, 0, 0, 0, 0, 0, 0, 1, 1, 1, 1, 0, 0, 0, 0, 1, 0, 0, 1, 1, 0, 0,\n",
              "       0, 0, 1, 1, 1, 1, 1, 0, 1, 0, 0, 0, 1, 1, 0, 0, 1, 0, 0, 0, 1, 0,\n",
              "       1, 1, 0, 0, 1, 0, 0, 0, 0, 0, 0, 1, 0, 0, 1, 0, 1, 0, 1, 0, 0, 1,\n",
              "       0, 0, 1, 1, 0, 0, 1, 1, 0, 0, 0, 1, 0, 0, 1, 1, 0, 1, 0, 0, 0, 0,\n",
              "       0, 0, 0, 0, 1, 0, 0, 1, 0, 1, 1, 1, 0, 0, 0, 0, 1, 0, 1, 0, 0, 0,\n",
              "       0, 0, 0, 0, 1, 1, 0, 0, 0, 1, 1, 1, 1, 0, 0, 0, 0, 1, 0, 0, 0, 0,\n",
              "       0, 0, 0, 0, 0, 0, 1, 1, 0, 1, 0, 0, 0, 1, 1, 1, 1, 1, 0, 0, 0, 1,\n",
              "       0, 0, 1, 1, 0, 0, 1, 0, 0, 0, 0, 0, 0, 1, 0, 0, 0, 1, 0, 1, 1, 1,\n",
              "       1, 0, 0, 0, 1, 0, 0, 1, 1, 0, 0, 1, 0, 1, 0, 0, 1, 1, 0, 0, 0, 1,\n",
              "       1, 0, 0, 0, 0, 0, 0, 1, 0, 1, 0])"
            ]
          },
          "metadata": {},
          "execution_count": 116
        }
      ]
    },
    {
      "cell_type": "code",
      "source": [
        "# w=np.zeros((x.shape[1],1))\n",
        "# print(w.shape)\n",
        "# w\n",
        "w = np.full((x.shape[0],1),0.01)\n",
        "w.shape\n"
      ],
      "metadata": {
        "colab": {
          "base_uri": "https://localhost:8080/"
        },
        "id": "fqbJf7-_YCIZ",
        "outputId": "b6772edd-9c29-46c0-b359-8c56bf8b46a3"
      },
      "execution_count": 117,
      "outputs": [
        {
          "output_type": "execute_result",
          "data": {
            "text/plain": [
              "(6, 1)"
            ]
          },
          "metadata": {},
          "execution_count": 117
        }
      ]
    },
    {
      "cell_type": "code",
      "source": [
        "wt = np.full((xt.shape[0],1),0.01)\n",
        "wt.shape"
      ],
      "metadata": {
        "colab": {
          "base_uri": "https://localhost:8080/"
        },
        "id": "eGlIrjumD6np",
        "outputId": "ba869cbe-6a80-4005-f4f8-fece5cbebcc5"
      },
      "execution_count": 118,
      "outputs": [
        {
          "output_type": "execute_result",
          "data": {
            "text/plain": [
              "(5, 1)"
            ]
          },
          "metadata": {},
          "execution_count": 118
        }
      ]
    },
    {
      "cell_type": "code",
      "source": [
        "b=0.0"
      ],
      "metadata": {
        "id": "NX9hChCpZ2Io"
      },
      "execution_count": 119,
      "outputs": []
    },
    {
      "cell_type": "code",
      "source": [
        "fit(x,0.0001,1000,w,b,y)"
      ],
      "metadata": {
        "colab": {
          "base_uri": "https://localhost:8080/"
        },
        "id": "o8JPFUBQYVfH",
        "outputId": "8715115d-1460-4b8a-cdfe-2ea14333587d"
      },
      "execution_count": 120,
      "outputs": [
        {
          "output_type": "stream",
          "name": "stdout",
          "text": [
            "Cost after iteration 0: 0.693832\n",
            "Cost after iteration 5: 0.693785\n",
            "Cost after iteration 10: 0.693737\n",
            "Cost after iteration 15: 0.693690\n",
            "Cost after iteration 20: 0.693643\n",
            "Cost after iteration 25: 0.693595\n",
            "Cost after iteration 30: 0.693548\n",
            "Cost after iteration 35: 0.693500\n",
            "Cost after iteration 40: 0.693453\n",
            "Cost after iteration 45: 0.693406\n",
            "Cost after iteration 50: 0.693358\n",
            "Cost after iteration 55: 0.693311\n",
            "Cost after iteration 60: 0.693264\n",
            "Cost after iteration 65: 0.693216\n",
            "Cost after iteration 70: 0.693169\n",
            "Cost after iteration 75: 0.693122\n",
            "Cost after iteration 80: 0.693074\n",
            "Cost after iteration 85: 0.693027\n",
            "Cost after iteration 90: 0.692980\n",
            "Cost after iteration 95: 0.692932\n",
            "Cost after iteration 100: 0.692885\n",
            "Cost after iteration 105: 0.692838\n",
            "Cost after iteration 110: 0.692790\n",
            "Cost after iteration 115: 0.692743\n",
            "Cost after iteration 120: 0.692696\n",
            "Cost after iteration 125: 0.692649\n",
            "Cost after iteration 130: 0.692602\n",
            "Cost after iteration 135: 0.692554\n",
            "Cost after iteration 140: 0.692507\n",
            "Cost after iteration 145: 0.692460\n",
            "Cost after iteration 150: 0.692413\n",
            "Cost after iteration 155: 0.692365\n",
            "Cost after iteration 160: 0.692318\n",
            "Cost after iteration 165: 0.692271\n",
            "Cost after iteration 170: 0.692224\n",
            "Cost after iteration 175: 0.692177\n",
            "Cost after iteration 180: 0.692130\n",
            "Cost after iteration 185: 0.692083\n",
            "Cost after iteration 190: 0.692035\n",
            "Cost after iteration 195: 0.691988\n",
            "Cost after iteration 200: 0.691941\n",
            "Cost after iteration 205: 0.691894\n",
            "Cost after iteration 210: 0.691847\n",
            "Cost after iteration 215: 0.691800\n",
            "Cost after iteration 220: 0.691753\n",
            "Cost after iteration 225: 0.691706\n",
            "Cost after iteration 230: 0.691659\n",
            "Cost after iteration 235: 0.691612\n",
            "Cost after iteration 240: 0.691565\n",
            "Cost after iteration 245: 0.691518\n",
            "Cost after iteration 250: 0.691471\n",
            "Cost after iteration 255: 0.691423\n",
            "Cost after iteration 260: 0.691376\n",
            "Cost after iteration 265: 0.691329\n",
            "Cost after iteration 270: 0.691282\n",
            "Cost after iteration 275: 0.691235\n",
            "Cost after iteration 280: 0.691188\n",
            "Cost after iteration 285: 0.691142\n",
            "Cost after iteration 290: 0.691095\n",
            "Cost after iteration 295: 0.691048\n",
            "Cost after iteration 300: 0.691001\n",
            "Cost after iteration 305: 0.690954\n",
            "Cost after iteration 310: 0.690907\n",
            "Cost after iteration 315: 0.690860\n",
            "Cost after iteration 320: 0.690813\n",
            "Cost after iteration 325: 0.690766\n",
            "Cost after iteration 330: 0.690719\n",
            "Cost after iteration 335: 0.690672\n",
            "Cost after iteration 340: 0.690625\n",
            "Cost after iteration 345: 0.690579\n",
            "Cost after iteration 350: 0.690532\n",
            "Cost after iteration 355: 0.690485\n",
            "Cost after iteration 360: 0.690438\n",
            "Cost after iteration 365: 0.690391\n",
            "Cost after iteration 370: 0.690344\n",
            "Cost after iteration 375: 0.690297\n",
            "Cost after iteration 380: 0.690251\n",
            "Cost after iteration 385: 0.690204\n",
            "Cost after iteration 390: 0.690157\n",
            "Cost after iteration 395: 0.690110\n",
            "Cost after iteration 400: 0.690063\n",
            "Cost after iteration 405: 0.690017\n",
            "Cost after iteration 410: 0.689970\n",
            "Cost after iteration 415: 0.689923\n",
            "Cost after iteration 420: 0.689876\n",
            "Cost after iteration 425: 0.689830\n",
            "Cost after iteration 430: 0.689783\n",
            "Cost after iteration 435: 0.689736\n",
            "Cost after iteration 440: 0.689689\n",
            "Cost after iteration 445: 0.689643\n",
            "Cost after iteration 450: 0.689596\n",
            "Cost after iteration 455: 0.689549\n",
            "Cost after iteration 460: 0.689503\n",
            "Cost after iteration 465: 0.689456\n",
            "Cost after iteration 470: 0.689409\n",
            "Cost after iteration 475: 0.689363\n",
            "Cost after iteration 480: 0.689316\n",
            "Cost after iteration 485: 0.689269\n",
            "Cost after iteration 490: 0.689223\n",
            "Cost after iteration 495: 0.689176\n",
            "Cost after iteration 500: 0.689130\n",
            "Cost after iteration 505: 0.689083\n",
            "Cost after iteration 510: 0.689036\n",
            "Cost after iteration 515: 0.688990\n",
            "Cost after iteration 520: 0.688943\n",
            "Cost after iteration 525: 0.688897\n",
            "Cost after iteration 530: 0.688850\n",
            "Cost after iteration 535: 0.688803\n",
            "Cost after iteration 540: 0.688757\n",
            "Cost after iteration 545: 0.688710\n",
            "Cost after iteration 550: 0.688664\n",
            "Cost after iteration 555: 0.688617\n",
            "Cost after iteration 560: 0.688571\n",
            "Cost after iteration 565: 0.688524\n",
            "Cost after iteration 570: 0.688478\n",
            "Cost after iteration 575: 0.688431\n",
            "Cost after iteration 580: 0.688385\n",
            "Cost after iteration 585: 0.688338\n",
            "Cost after iteration 590: 0.688292\n",
            "Cost after iteration 595: 0.688245\n",
            "Cost after iteration 600: 0.688199\n",
            "Cost after iteration 605: 0.688152\n",
            "Cost after iteration 610: 0.688106\n",
            "Cost after iteration 615: 0.688060\n",
            "Cost after iteration 620: 0.688013\n",
            "Cost after iteration 625: 0.687967\n",
            "Cost after iteration 630: 0.687920\n",
            "Cost after iteration 635: 0.687874\n",
            "Cost after iteration 640: 0.687828\n",
            "Cost after iteration 645: 0.687781\n",
            "Cost after iteration 650: 0.687735\n",
            "Cost after iteration 655: 0.687688\n",
            "Cost after iteration 660: 0.687642\n",
            "Cost after iteration 665: 0.687596\n",
            "Cost after iteration 670: 0.687549\n",
            "Cost after iteration 675: 0.687503\n",
            "Cost after iteration 680: 0.687457\n",
            "Cost after iteration 685: 0.687410\n",
            "Cost after iteration 690: 0.687364\n",
            "Cost after iteration 695: 0.687318\n",
            "Cost after iteration 700: 0.687271\n",
            "Cost after iteration 705: 0.687225\n",
            "Cost after iteration 710: 0.687179\n",
            "Cost after iteration 715: 0.687133\n",
            "Cost after iteration 720: 0.687086\n",
            "Cost after iteration 725: 0.687040\n",
            "Cost after iteration 730: 0.686994\n",
            "Cost after iteration 735: 0.686948\n",
            "Cost after iteration 740: 0.686901\n",
            "Cost after iteration 745: 0.686855\n",
            "Cost after iteration 750: 0.686809\n",
            "Cost after iteration 755: 0.686763\n",
            "Cost after iteration 760: 0.686717\n",
            "Cost after iteration 765: 0.686670\n",
            "Cost after iteration 770: 0.686624\n",
            "Cost after iteration 775: 0.686578\n",
            "Cost after iteration 780: 0.686532\n",
            "Cost after iteration 785: 0.686486\n",
            "Cost after iteration 790: 0.686440\n",
            "Cost after iteration 795: 0.686393\n",
            "Cost after iteration 800: 0.686347\n",
            "Cost after iteration 805: 0.686301\n",
            "Cost after iteration 810: 0.686255\n",
            "Cost after iteration 815: 0.686209\n",
            "Cost after iteration 820: 0.686163\n",
            "Cost after iteration 825: 0.686117\n",
            "Cost after iteration 830: 0.686071\n",
            "Cost after iteration 835: 0.686025\n",
            "Cost after iteration 840: 0.685979\n",
            "Cost after iteration 845: 0.685932\n",
            "Cost after iteration 850: 0.685886\n",
            "Cost after iteration 855: 0.685840\n",
            "Cost after iteration 860: 0.685794\n",
            "Cost after iteration 865: 0.685748\n",
            "Cost after iteration 870: 0.685702\n",
            "Cost after iteration 875: 0.685656\n",
            "Cost after iteration 880: 0.685610\n",
            "Cost after iteration 885: 0.685564\n",
            "Cost after iteration 890: 0.685518\n",
            "Cost after iteration 895: 0.685472\n",
            "Cost after iteration 900: 0.685426\n",
            "Cost after iteration 905: 0.685380\n",
            "Cost after iteration 910: 0.685334\n",
            "Cost after iteration 915: 0.685288\n",
            "Cost after iteration 920: 0.685243\n",
            "Cost after iteration 925: 0.685197\n",
            "Cost after iteration 930: 0.685151\n",
            "Cost after iteration 935: 0.685105\n",
            "Cost after iteration 940: 0.685059\n",
            "Cost after iteration 945: 0.685013\n",
            "Cost after iteration 950: 0.684967\n",
            "Cost after iteration 955: 0.684921\n",
            "Cost after iteration 960: 0.684875\n",
            "Cost after iteration 965: 0.684829\n",
            "Cost after iteration 970: 0.684784\n",
            "Cost after iteration 975: 0.684738\n",
            "Cost after iteration 980: 0.684692\n",
            "Cost after iteration 985: 0.684646\n",
            "Cost after iteration 990: 0.684600\n",
            "Cost after iteration 995: 0.684554\n"
          ]
        }
      ]
    },
    {
      "cell_type": "code",
      "source": [
        "def predict(w,b,x_test):\n",
        "    # x_test is a input for forward propagation\n",
        "    z = sigmoid(np.dot(w.T,x_test)+b)\n",
        "    Y_prediction = np.zeros((1,x_test.shape[1]))\n",
        "    # if z is bigger than 0.5, our prediction is one means has diabete (y_head=1),\n",
        "    # if z is smaller than 0.5, our prediction is zero means does not have diabete (y_head=0),\n",
        "    for i in range(z.shape[1]):\n",
        "        if z[0,i]< 0.60:\n",
        "            Y_prediction[0,i] = 0\n",
        "        else:\n",
        "            Y_prediction[0,i] = 1\n",
        "\n",
        "    return Y_prediction"
      ],
      "metadata": {
        "id": "AOxVlT61t8mW"
      },
      "execution_count": 121,
      "outputs": []
    },
    {
      "cell_type": "code",
      "source": [
        "y_prediction=predict(wt,b,xt)\n",
        "y_prediction.shape"
      ],
      "metadata": {
        "colab": {
          "base_uri": "https://localhost:8080/"
        },
        "id": "KHttJlHouAVI",
        "outputId": "53866867-5ee4-4d8a-a0d0-2c85709e67e2"
      },
      "execution_count": 122,
      "outputs": [
        {
          "output_type": "execute_result",
          "data": {
            "text/plain": [
              "(1, 418)"
            ]
          },
          "metadata": {},
          "execution_count": 122
        }
      ]
    },
    {
      "cell_type": "code",
      "source": [
        "print(\"test accuracy: {} %\".format(100 - np.mean(np.abs(y_prediction - t)) * 100))"
      ],
      "metadata": {
        "colab": {
          "base_uri": "https://localhost:8080/"
        },
        "id": "NDO7i8-sxgkB",
        "outputId": "d45ff65e-9b8c-49da-9f7b-e24a28cc2c2e"
      },
      "execution_count": 123,
      "outputs": [
        {
          "output_type": "stream",
          "name": "stdout",
          "text": [
            "test accuracy: 54.78468899521531 %\n"
          ]
        }
      ]
    },
    {
      "cell_type": "code",
      "source": [
        "ypreda=predict(wa,b,ar)\n",
        "if(ypreda):\n",
        "  print(\"Arpit Survived\")\n",
        "else:\n",
        "  print(\"Arpit Not Survived\")"
      ],
      "metadata": {
        "colab": {
          "base_uri": "https://localhost:8080/"
        },
        "id": "jbB-g9ENHy19",
        "outputId": "9762635a-0d27-41aa-a9ce-b780b4bbe804"
      },
      "execution_count": 124,
      "outputs": [
        {
          "output_type": "stream",
          "name": "stdout",
          "text": [
            "Arpit Not Survived\n"
          ]
        }
      ]
    },
    {
      "cell_type": "code",
      "source": [
        "ypreds=predict(ws,b,sh)\n",
        "if(ypreds):\n",
        "  print(\"Shreya Survived\")\n",
        "else:\n",
        "  print(\"Shreya Not Survived\")"
      ],
      "metadata": {
        "colab": {
          "base_uri": "https://localhost:8080/"
        },
        "id": "_jemmTLcI3o-",
        "outputId": "3a1cb020-ea3c-480f-cee8-ec583fcc02b5"
      },
      "execution_count": 125,
      "outputs": [
        {
          "output_type": "stream",
          "name": "stdout",
          "text": [
            "Shreya Survived\n"
          ]
        }
      ]
    }
  ]
}